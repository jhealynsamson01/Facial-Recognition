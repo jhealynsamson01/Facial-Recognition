{
 "cells": [
  {
   "cell_type": "code",
   "execution_count": 1,
   "id": "b6754842",
   "metadata": {},
   "outputs": [],
   "source": [
    "#Required libraries:\n",
    "# !pip install pygame\n",
    "# !pip install face_recognition"
   ]
  },
  {
   "cell_type": "code",
   "execution_count": 66,
   "id": "da4ed7b6",
   "metadata": {},
   "outputs": [],
   "source": [
    "import pygame\n",
    "import pygame.camera\n",
    "import os\n",
    "import face_recognition\n",
    "import serial\n",
    "import ftplib\n",
    "import time\n",
    "# import fnmatch"
   ]
  },
  {
   "cell_type": "code",
   "execution_count": 141,
   "id": "447b2275",
   "metadata": {},
   "outputs": [],
   "source": [
    "#References: \n",
    "# - https://github.com/ageitgey/face_recognition/blob/master/examples/facerec_from_webcam_faster.py\n",
    "# - https://pypi.org/project/face-recognition/\n",
    "\n",
    "def _init_(comport):\n",
    "    ser = serial.Serial(comport, 9600)\n",
    "    receivestring = ser.readline() # ignore the first read in\n",
    "    \n",
    "    while True:\n",
    "        receivestring = ser.readline().decode(\"utf-8\").strip() # read one line and\n",
    "        time.sleep(1)\n",
    "        \n",
    "    return receivestring\n",
    "\n",
    "def uniquify(path):\n",
    "    filename, extension = os.path.splitext(path)\n",
    "    counter = 1\n",
    "    while os.path.exists(path):\n",
    "        path = filename + \" (\" + str(counter) + \")\" + extension\n",
    "        counter += 1\n",
    "    return path\n",
    "    \n",
    "def captureimage():\n",
    "    pygame.camera.init()\n",
    "    camlist = pygame.camera.list_cameras()\n",
    "    filename = \"newphoto.jpg\"\n",
    "    \n",
    "    if camlist:\n",
    "        cam = pygame.camera.Camera(camlist[0], (800, 800))\n",
    "        cam.start()\n",
    "        image = cam.get_image()\n",
    "        pygame.image.save(image, filename)\n",
    "        \n",
    "    return filename \n",
    "\n",
    "def uploadFTP(filenameImage,ftp):    \n",
    "    with open(filenameImage, \"rb\") as file:\n",
    "        ftp.storbinary(f\"STOR {filenameImage}\", file)\n",
    "\n",
    "# def readImageLibrary(ftp, filename):\n",
    "#     dir_path = list(ftp.mlsd())\n",
    "    \n",
    "#     for file in dir_path:\n",
    "#     newfilename = uniquify(file[0])\n",
    "#     ftp.retrbinary(\"RETR \" + file[0] ,open(\"./\" + newfilename, 'wb').write)\n",
    "#     new_picture = face_recognition.load_image_file(\"./\" + newfilename)\n",
    "#     my_face_encoding = face_recognition.face_encodings(new_picture)\n",
    "            \n",
    "def facialRecognitionModel(filenameImage,ftp):\n",
    "    dir_path = list(ftp.mlsd())\n",
    "    print(dir_path)\n",
    "    \n",
    "    # get new image from server\n",
    "    for file in dir_path:\n",
    "        if filenameImage == file[0]:   \n",
    "            newfilename = uniquify(file[0])\n",
    "            ftp.retrbinary(\"RETR \" + file[0] ,open(\"./\" + newfilename, 'wb').write)\n",
    "            new_picture = face_recognition.load_image_file(\"./\" + newfilename)\n",
    "            my_face_encoding = face_recognition.face_encodings(new_picture)\n",
    "\n",
    "#         if filenameImage != file[0]: \n",
    "#             if \".jpg\" in file[0]:\n",
    "#                 print(filenameImage)\n",
    "#             image = readImageLibrary(filenamepath, ftp)\n",
    "#             known_picture = face_recognition.load_image_file(image)\n",
    "#             unknown_face_encoding = face_recognition.face_encodings(known_picture)[0]\n",
    "#             results = face_recognition.compare_faces([my_face_encoding], unknown_face_encoding)\n",
    "#             if results[0] == True:\n",
    "#                 print(\"Cleared\")\n",
    "#                 ftp.quit()\n",
    "#                 break\n",
    "#             else:\n",
    "#                 print(\"Access Denied\")\n",
    "                \n",
    "def ConnectToftp(FTP_HOST, FTP_USER, FTP_PASS, filenameImage):\n",
    "    ftp = ftplib.FTP(FTP_HOST, FTP_USER, FTP_PASS)\n",
    "    ftp.encoding = \"utf-8\"\n",
    "    \n",
    "#     uploadFTP(filenameImage,ftp)\n",
    "    facialRecognitionModel(filenameImage,ftp)\n",
    "    "
   ]
  },
  {
   "cell_type": "code",
   "execution_count": 142,
   "id": "30d46699",
   "metadata": {},
   "outputs": [
    {
     "ename": "error_perm",
     "evalue": "550 Directory not found.",
     "output_type": "error",
     "traceback": [
      "\u001b[0;31m---------------------------------------------------------------------------\u001b[0m",
      "\u001b[0;31merror_perm\u001b[0m                                Traceback (most recent call last)",
      "\u001b[0;32m/var/folders/tc/r6lk497d6g9dz8_7bj_5dssm0000gn/T/ipykernel_93567/4027833390.py\u001b[0m in \u001b[0;36m<module>\u001b[0;34m\u001b[0m\n\u001b[1;32m      5\u001b[0m \u001b[0;31m#     ConnectToftp(\"10.50.202.242\",\"user09\",\"user09\",\"newphoto.jpg\")\u001b[0m\u001b[0;34m\u001b[0m\u001b[0;34m\u001b[0m\u001b[0m\n\u001b[1;32m      6\u001b[0m \u001b[0;34m\u001b[0m\u001b[0m\n\u001b[0;32m----> 7\u001b[0;31m \u001b[0mConnectToftp\u001b[0m\u001b[0;34m(\u001b[0m\u001b[0;34m\"10.50.202.242\"\u001b[0m\u001b[0;34m,\u001b[0m\u001b[0;34m\"user09\"\u001b[0m\u001b[0;34m,\u001b[0m\u001b[0;34m\"user09\"\u001b[0m\u001b[0;34m,\u001b[0m\u001b[0;34m\"newphoto.jpg\"\u001b[0m\u001b[0;34m)\u001b[0m\u001b[0;34m\u001b[0m\u001b[0;34m\u001b[0m\u001b[0m\n\u001b[0m",
      "\u001b[0;32m/var/folders/tc/r6lk497d6g9dz8_7bj_5dssm0000gn/T/ipykernel_93567/1110090199.py\u001b[0m in \u001b[0;36mConnectToftp\u001b[0;34m(FTP_HOST, FTP_USER, FTP_PASS, filenameImage)\u001b[0m\n\u001b[1;32m     77\u001b[0m \u001b[0;34m\u001b[0m\u001b[0m\n\u001b[1;32m     78\u001b[0m \u001b[0;31m#     uploadFTP(filenameImage,ftp)\u001b[0m\u001b[0;34m\u001b[0m\u001b[0;34m\u001b[0m\u001b[0m\n\u001b[0;32m---> 79\u001b[0;31m     \u001b[0mfacialRecognitionModel\u001b[0m\u001b[0;34m(\u001b[0m\u001b[0mfilenameImage\u001b[0m\u001b[0;34m,\u001b[0m\u001b[0mftp\u001b[0m\u001b[0;34m)\u001b[0m\u001b[0;34m\u001b[0m\u001b[0;34m\u001b[0m\u001b[0m\n\u001b[0m\u001b[1;32m     80\u001b[0m \u001b[0;34m\u001b[0m\u001b[0m\n",
      "\u001b[0;32m/var/folders/tc/r6lk497d6g9dz8_7bj_5dssm0000gn/T/ipykernel_93567/1110090199.py\u001b[0m in \u001b[0;36mfacialRecognitionModel\u001b[0;34m(filenameImage, ftp)\u001b[0m\n\u001b[1;32m     48\u001b[0m \u001b[0;34m\u001b[0m\u001b[0m\n\u001b[1;32m     49\u001b[0m \u001b[0;32mdef\u001b[0m \u001b[0mfacialRecognitionModel\u001b[0m\u001b[0;34m(\u001b[0m\u001b[0mfilenameImage\u001b[0m\u001b[0;34m,\u001b[0m\u001b[0mftp\u001b[0m\u001b[0;34m)\u001b[0m\u001b[0;34m:\u001b[0m\u001b[0;34m\u001b[0m\u001b[0;34m\u001b[0m\u001b[0m\n\u001b[0;32m---> 50\u001b[0;31m     \u001b[0mdir_path\u001b[0m \u001b[0;34m=\u001b[0m \u001b[0mlist\u001b[0m\u001b[0;34m(\u001b[0m\u001b[0mftp\u001b[0m\u001b[0;34m.\u001b[0m\u001b[0mmlsd\u001b[0m\u001b[0;34m(\u001b[0m\u001b[0;34m\"\\KnownImageLibrary\"\u001b[0m\u001b[0;34m)\u001b[0m\u001b[0;34m)\u001b[0m\u001b[0;34m\u001b[0m\u001b[0;34m\u001b[0m\u001b[0m\n\u001b[0m\u001b[1;32m     51\u001b[0m     \u001b[0mprint\u001b[0m\u001b[0;34m(\u001b[0m\u001b[0mdir_path\u001b[0m\u001b[0;34m)\u001b[0m\u001b[0;34m\u001b[0m\u001b[0;34m\u001b[0m\u001b[0m\n\u001b[1;32m     52\u001b[0m \u001b[0;34m\u001b[0m\u001b[0m\n",
      "\u001b[0;32m~/opt/anaconda3/lib/python3.9/ftplib.py\u001b[0m in \u001b[0;36mmlsd\u001b[0;34m(self, path, facts)\u001b[0m\n\u001b[1;32m    588\u001b[0m             \u001b[0mcmd\u001b[0m \u001b[0;34m=\u001b[0m \u001b[0;34m\"MLSD\"\u001b[0m\u001b[0;34m\u001b[0m\u001b[0;34m\u001b[0m\u001b[0m\n\u001b[1;32m    589\u001b[0m         \u001b[0mlines\u001b[0m \u001b[0;34m=\u001b[0m \u001b[0;34m[\u001b[0m\u001b[0;34m]\u001b[0m\u001b[0;34m\u001b[0m\u001b[0;34m\u001b[0m\u001b[0m\n\u001b[0;32m--> 590\u001b[0;31m         \u001b[0mself\u001b[0m\u001b[0;34m.\u001b[0m\u001b[0mretrlines\u001b[0m\u001b[0;34m(\u001b[0m\u001b[0mcmd\u001b[0m\u001b[0;34m,\u001b[0m \u001b[0mlines\u001b[0m\u001b[0;34m.\u001b[0m\u001b[0mappend\u001b[0m\u001b[0;34m)\u001b[0m\u001b[0;34m\u001b[0m\u001b[0;34m\u001b[0m\u001b[0m\n\u001b[0m\u001b[1;32m    591\u001b[0m         \u001b[0;32mfor\u001b[0m \u001b[0mline\u001b[0m \u001b[0;32min\u001b[0m \u001b[0mlines\u001b[0m\u001b[0;34m:\u001b[0m\u001b[0;34m\u001b[0m\u001b[0;34m\u001b[0m\u001b[0m\n\u001b[1;32m    592\u001b[0m             \u001b[0mfacts_found\u001b[0m\u001b[0;34m,\u001b[0m \u001b[0m_\u001b[0m\u001b[0;34m,\u001b[0m \u001b[0mname\u001b[0m \u001b[0;34m=\u001b[0m \u001b[0mline\u001b[0m\u001b[0;34m.\u001b[0m\u001b[0mrstrip\u001b[0m\u001b[0;34m(\u001b[0m\u001b[0mCRLF\u001b[0m\u001b[0;34m)\u001b[0m\u001b[0;34m.\u001b[0m\u001b[0mpartition\u001b[0m\u001b[0;34m(\u001b[0m\u001b[0;34m' '\u001b[0m\u001b[0;34m)\u001b[0m\u001b[0;34m\u001b[0m\u001b[0;34m\u001b[0m\u001b[0m\n",
      "\u001b[0;32m~/opt/anaconda3/lib/python3.9/ftplib.py\u001b[0m in \u001b[0;36mretrlines\u001b[0;34m(self, cmd, callback)\u001b[0m\n\u001b[1;32m    460\u001b[0m             \u001b[0mcallback\u001b[0m \u001b[0;34m=\u001b[0m \u001b[0mprint_line\u001b[0m\u001b[0;34m\u001b[0m\u001b[0;34m\u001b[0m\u001b[0m\n\u001b[1;32m    461\u001b[0m         \u001b[0mresp\u001b[0m \u001b[0;34m=\u001b[0m \u001b[0mself\u001b[0m\u001b[0;34m.\u001b[0m\u001b[0msendcmd\u001b[0m\u001b[0;34m(\u001b[0m\u001b[0;34m'TYPE A'\u001b[0m\u001b[0;34m)\u001b[0m\u001b[0;34m\u001b[0m\u001b[0;34m\u001b[0m\u001b[0m\n\u001b[0;32m--> 462\u001b[0;31m         \u001b[0;32mwith\u001b[0m \u001b[0mself\u001b[0m\u001b[0;34m.\u001b[0m\u001b[0mtransfercmd\u001b[0m\u001b[0;34m(\u001b[0m\u001b[0mcmd\u001b[0m\u001b[0;34m)\u001b[0m \u001b[0;32mas\u001b[0m \u001b[0mconn\u001b[0m\u001b[0;34m,\u001b[0m\u001b[0;31m \u001b[0m\u001b[0;31m\\\u001b[0m\u001b[0;34m\u001b[0m\u001b[0;34m\u001b[0m\u001b[0m\n\u001b[0m\u001b[1;32m    463\u001b[0m                  \u001b[0mconn\u001b[0m\u001b[0;34m.\u001b[0m\u001b[0mmakefile\u001b[0m\u001b[0;34m(\u001b[0m\u001b[0;34m'r'\u001b[0m\u001b[0;34m,\u001b[0m \u001b[0mencoding\u001b[0m\u001b[0;34m=\u001b[0m\u001b[0mself\u001b[0m\u001b[0;34m.\u001b[0m\u001b[0mencoding\u001b[0m\u001b[0;34m)\u001b[0m \u001b[0;32mas\u001b[0m \u001b[0mfp\u001b[0m\u001b[0;34m:\u001b[0m\u001b[0;34m\u001b[0m\u001b[0;34m\u001b[0m\u001b[0m\n\u001b[1;32m    464\u001b[0m             \u001b[0;32mwhile\u001b[0m \u001b[0;36m1\u001b[0m\u001b[0;34m:\u001b[0m\u001b[0;34m\u001b[0m\u001b[0;34m\u001b[0m\u001b[0m\n",
      "\u001b[0;32m~/opt/anaconda3/lib/python3.9/ftplib.py\u001b[0m in \u001b[0;36mtransfercmd\u001b[0;34m(self, cmd, rest)\u001b[0m\n\u001b[1;32m    391\u001b[0m     \u001b[0;32mdef\u001b[0m \u001b[0mtransfercmd\u001b[0m\u001b[0;34m(\u001b[0m\u001b[0mself\u001b[0m\u001b[0;34m,\u001b[0m \u001b[0mcmd\u001b[0m\u001b[0;34m,\u001b[0m \u001b[0mrest\u001b[0m\u001b[0;34m=\u001b[0m\u001b[0;32mNone\u001b[0m\u001b[0;34m)\u001b[0m\u001b[0;34m:\u001b[0m\u001b[0;34m\u001b[0m\u001b[0;34m\u001b[0m\u001b[0m\n\u001b[1;32m    392\u001b[0m         \u001b[0;34m\"\"\"Like ntransfercmd() but returns only the socket.\"\"\"\u001b[0m\u001b[0;34m\u001b[0m\u001b[0;34m\u001b[0m\u001b[0m\n\u001b[0;32m--> 393\u001b[0;31m         \u001b[0;32mreturn\u001b[0m \u001b[0mself\u001b[0m\u001b[0;34m.\u001b[0m\u001b[0mntransfercmd\u001b[0m\u001b[0;34m(\u001b[0m\u001b[0mcmd\u001b[0m\u001b[0;34m,\u001b[0m \u001b[0mrest\u001b[0m\u001b[0;34m)\u001b[0m\u001b[0;34m[\u001b[0m\u001b[0;36m0\u001b[0m\u001b[0;34m]\u001b[0m\u001b[0;34m\u001b[0m\u001b[0;34m\u001b[0m\u001b[0m\n\u001b[0m\u001b[1;32m    394\u001b[0m \u001b[0;34m\u001b[0m\u001b[0m\n\u001b[1;32m    395\u001b[0m     \u001b[0;32mdef\u001b[0m \u001b[0mlogin\u001b[0m\u001b[0;34m(\u001b[0m\u001b[0mself\u001b[0m\u001b[0;34m,\u001b[0m \u001b[0muser\u001b[0m \u001b[0;34m=\u001b[0m \u001b[0;34m''\u001b[0m\u001b[0;34m,\u001b[0m \u001b[0mpasswd\u001b[0m \u001b[0;34m=\u001b[0m \u001b[0;34m''\u001b[0m\u001b[0;34m,\u001b[0m \u001b[0macct\u001b[0m \u001b[0;34m=\u001b[0m \u001b[0;34m''\u001b[0m\u001b[0;34m)\u001b[0m\u001b[0;34m:\u001b[0m\u001b[0;34m\u001b[0m\u001b[0;34m\u001b[0m\u001b[0m\n",
      "\u001b[0;32m~/opt/anaconda3/lib/python3.9/ftplib.py\u001b[0m in \u001b[0;36mntransfercmd\u001b[0;34m(self, cmd, rest)\u001b[0m\n\u001b[1;32m    357\u001b[0m                 \u001b[0;32mif\u001b[0m \u001b[0mrest\u001b[0m \u001b[0;32mis\u001b[0m \u001b[0;32mnot\u001b[0m \u001b[0;32mNone\u001b[0m\u001b[0;34m:\u001b[0m\u001b[0;34m\u001b[0m\u001b[0;34m\u001b[0m\u001b[0m\n\u001b[1;32m    358\u001b[0m                     \u001b[0mself\u001b[0m\u001b[0;34m.\u001b[0m\u001b[0msendcmd\u001b[0m\u001b[0;34m(\u001b[0m\u001b[0;34m\"REST %s\"\u001b[0m \u001b[0;34m%\u001b[0m \u001b[0mrest\u001b[0m\u001b[0;34m)\u001b[0m\u001b[0;34m\u001b[0m\u001b[0;34m\u001b[0m\u001b[0m\n\u001b[0;32m--> 359\u001b[0;31m                 \u001b[0mresp\u001b[0m \u001b[0;34m=\u001b[0m \u001b[0mself\u001b[0m\u001b[0;34m.\u001b[0m\u001b[0msendcmd\u001b[0m\u001b[0;34m(\u001b[0m\u001b[0mcmd\u001b[0m\u001b[0;34m)\u001b[0m\u001b[0;34m\u001b[0m\u001b[0;34m\u001b[0m\u001b[0m\n\u001b[0m\u001b[1;32m    360\u001b[0m                 \u001b[0;31m# Some servers apparently send a 200 reply to\u001b[0m\u001b[0;34m\u001b[0m\u001b[0;34m\u001b[0m\u001b[0m\n\u001b[1;32m    361\u001b[0m                 \u001b[0;31m# a LIST or STOR command, before the 150 reply\u001b[0m\u001b[0;34m\u001b[0m\u001b[0;34m\u001b[0m\u001b[0m\n",
      "\u001b[0;32m~/opt/anaconda3/lib/python3.9/ftplib.py\u001b[0m in \u001b[0;36msendcmd\u001b[0;34m(self, cmd)\u001b[0m\n\u001b[1;32m    279\u001b[0m         \u001b[0;34m'''Send a command and return the response.'''\u001b[0m\u001b[0;34m\u001b[0m\u001b[0;34m\u001b[0m\u001b[0m\n\u001b[1;32m    280\u001b[0m         \u001b[0mself\u001b[0m\u001b[0;34m.\u001b[0m\u001b[0mputcmd\u001b[0m\u001b[0;34m(\u001b[0m\u001b[0mcmd\u001b[0m\u001b[0;34m)\u001b[0m\u001b[0;34m\u001b[0m\u001b[0;34m\u001b[0m\u001b[0m\n\u001b[0;32m--> 281\u001b[0;31m         \u001b[0;32mreturn\u001b[0m \u001b[0mself\u001b[0m\u001b[0;34m.\u001b[0m\u001b[0mgetresp\u001b[0m\u001b[0;34m(\u001b[0m\u001b[0;34m)\u001b[0m\u001b[0;34m\u001b[0m\u001b[0;34m\u001b[0m\u001b[0m\n\u001b[0m\u001b[1;32m    282\u001b[0m \u001b[0;34m\u001b[0m\u001b[0m\n\u001b[1;32m    283\u001b[0m     \u001b[0;32mdef\u001b[0m \u001b[0mvoidcmd\u001b[0m\u001b[0;34m(\u001b[0m\u001b[0mself\u001b[0m\u001b[0;34m,\u001b[0m \u001b[0mcmd\u001b[0m\u001b[0;34m)\u001b[0m\u001b[0;34m:\u001b[0m\u001b[0;34m\u001b[0m\u001b[0;34m\u001b[0m\u001b[0m\n",
      "\u001b[0;32m~/opt/anaconda3/lib/python3.9/ftplib.py\u001b[0m in \u001b[0;36mgetresp\u001b[0;34m(self)\u001b[0m\n\u001b[1;32m    252\u001b[0m             \u001b[0;32mraise\u001b[0m \u001b[0merror_temp\u001b[0m\u001b[0;34m(\u001b[0m\u001b[0mresp\u001b[0m\u001b[0;34m)\u001b[0m\u001b[0;34m\u001b[0m\u001b[0;34m\u001b[0m\u001b[0m\n\u001b[1;32m    253\u001b[0m         \u001b[0;32mif\u001b[0m \u001b[0mc\u001b[0m \u001b[0;34m==\u001b[0m \u001b[0;34m'5'\u001b[0m\u001b[0;34m:\u001b[0m\u001b[0;34m\u001b[0m\u001b[0;34m\u001b[0m\u001b[0m\n\u001b[0;32m--> 254\u001b[0;31m             \u001b[0;32mraise\u001b[0m \u001b[0merror_perm\u001b[0m\u001b[0;34m(\u001b[0m\u001b[0mresp\u001b[0m\u001b[0;34m)\u001b[0m\u001b[0;34m\u001b[0m\u001b[0;34m\u001b[0m\u001b[0m\n\u001b[0m\u001b[1;32m    255\u001b[0m         \u001b[0;32mraise\u001b[0m \u001b[0merror_proto\u001b[0m\u001b[0;34m(\u001b[0m\u001b[0mresp\u001b[0m\u001b[0;34m)\u001b[0m\u001b[0;34m\u001b[0m\u001b[0;34m\u001b[0m\u001b[0m\n\u001b[1;32m    256\u001b[0m \u001b[0;34m\u001b[0m\u001b[0m\n",
      "\u001b[0;31merror_perm\u001b[0m: 550 Directory not found."
     ]
    }
   ],
   "source": [
    "# x = _init_('/dev/cu.usbmodem1301')\n",
    "\n",
    "# if x == \"ON\":\n",
    "#     captureimage()\n",
    "#     ConnectToftp(\"10.50.202.242\",\"user09\",\"user09\",\"newphoto.jpg\")\n",
    "    \n",
    "ConnectToftp(\"10.50.202.242\",\"user09\",\"user09\",\"newphoto.jpg\")"
   ]
  },
  {
   "cell_type": "code",
   "execution_count": null,
   "id": "882277c4",
   "metadata": {},
   "outputs": [],
   "source": []
  },
  {
   "cell_type": "code",
   "execution_count": null,
   "id": "bc01dc86",
   "metadata": {},
   "outputs": [],
   "source": []
  },
  {
   "cell_type": "code",
   "execution_count": null,
   "id": "dcb4ec61",
   "metadata": {},
   "outputs": [],
   "source": []
  }
 ],
 "metadata": {
  "kernelspec": {
   "display_name": "Python 3 (ipykernel)",
   "language": "python",
   "name": "python3"
  },
  "language_info": {
   "codemirror_mode": {
    "name": "ipython",
    "version": 3
   },
   "file_extension": ".py",
   "mimetype": "text/x-python",
   "name": "python",
   "nbconvert_exporter": "python",
   "pygments_lexer": "ipython3",
   "version": "3.9.7"
  }
 },
 "nbformat": 4,
 "nbformat_minor": 5
}
