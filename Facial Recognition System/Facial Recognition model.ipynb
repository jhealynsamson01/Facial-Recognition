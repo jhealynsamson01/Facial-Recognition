{
 "cells": [
  {
   "cell_type": "code",
   "execution_count": null,
   "id": "b6754842",
   "metadata": {},
   "outputs": [],
   "source": [
    "#Required libraries:\n",
    "# !pip install pygame\n",
    "# !pip install face_recognition"
   ]
  },
  {
   "cell_type": "code",
   "execution_count": 48,
   "id": "da4ed7b6",
   "metadata": {},
   "outputs": [],
   "source": [
    "import pygame\n",
    "import pygame.camera\n",
    "import os\n",
    "import face_recognition"
   ]
  },
  {
   "cell_type": "code",
   "execution_count": 96,
   "id": "447b2275",
   "metadata": {},
   "outputs": [],
   "source": [
    "#References: \n",
    "# - https://github.com/ageitgey/face_recognition/blob/master/examples/facerec_from_webcam_faster.py\n",
    "# - https://pypi.org/project/face-recognition/\n",
    "\n",
    "def uniquify(path):\n",
    "    filename, extension = os.path.splitext(path)\n",
    "    counter = 1\n",
    "\n",
    "    while os.path.exists(path):\n",
    "        path = filename + \" (\" + str(counter) + \")\" + extension\n",
    "        counter += 1\n",
    "\n",
    "    return path\n",
    "    \n",
    "def captureimage():\n",
    "    pygame.camera.init()\n",
    "    camlist = pygame.camera.list_cameras()\n",
    "    filename = \"newphoto.jpg\"\n",
    "    \n",
    "    if camlist:\n",
    "        cam = pygame.camera.Camera(camlist[0], (800, 800))\n",
    "        cam.start()\n",
    "        image = cam.get_image()\n",
    "#         filename = uniquify(filename)\n",
    "        pygame.image.save(image, filename)\n",
    "\n",
    "    return filename \n",
    "\n",
    "def facialRecognitionModel():\n",
    "    new_picture = face_recognition.load_image_file(\"newphoto.jpg\")\n",
    "    my_face_encoding = face_recognition.face_encodings(new_picture)[0]\n",
    "\n",
    "    dir_path = './Images'\n",
    "    res = []\n",
    "\n",
    "    # Iterate directory\n",
    "    for path in os.listdir(dir_path):\n",
    "        print(path)\n",
    "        if \".jpg\" in path:\n",
    "            known_picture = face_recognition.load_image_file(\"./Images/\"+path)\n",
    "            unknown_face_encoding = face_recognition.face_encodings(known_picture)[0]\n",
    "            results = face_recognition.compare_faces([my_face_encoding], unknown_face_encoding)\n",
    "            if results[0] == True:\n",
    "                print(\"Cleared\")\n",
    "                break\n",
    "            else:\n",
    "                print(\"Access Denied\")"
   ]
  },
  {
   "cell_type": "code",
   "execution_count": 85,
   "id": "bffecd99",
   "metadata": {},
   "outputs": [
    {
     "data": {
      "text/plain": [
       "'newphoto.jpg'"
      ]
     },
     "execution_count": 85,
     "metadata": {},
     "output_type": "execute_result"
    }
   ],
   "source": [
    "captureimage()"
   ]
  },
  {
   "cell_type": "code",
   "execution_count": 97,
   "id": "ceca4f41",
   "metadata": {},
   "outputs": [
    {
     "name": "stdout",
     "output_type": "stream",
     "text": [
      "Jhealyn3.jpg\n",
      "Cleared\n"
     ]
    }
   ],
   "source": [
    "facialRecognitionModel()"
   ]
  },
  {
   "cell_type": "code",
   "execution_count": null,
   "id": "96b90141",
   "metadata": {},
   "outputs": [],
   "source": []
  },
  {
   "cell_type": "code",
   "execution_count": null,
   "id": "cb241a3c",
   "metadata": {},
   "outputs": [],
   "source": []
  }
 ],
 "metadata": {
  "kernelspec": {
   "display_name": "Python 3 (ipykernel)",
   "language": "python",
   "name": "python3"
  },
  "language_info": {
   "codemirror_mode": {
    "name": "ipython",
    "version": 3
   },
   "file_extension": ".py",
   "mimetype": "text/x-python",
   "name": "python",
   "nbconvert_exporter": "python",
   "pygments_lexer": "ipython3",
   "version": "3.9.7"
  }
 },
 "nbformat": 4,
 "nbformat_minor": 5
}
