{
 "cells": [
  {
   "cell_type": "code",
   "execution_count": null,
   "metadata": {},
   "outputs": [],
   "source": [
    "#Required libraries:\n",
    "# !pip install pyserial\n",
    "# !pip install pandas\n",
    "# !pip install pygame\n",
    "# !pip install face_recognition\n",
    "# !pip install opencv-python\n",
    "# !pip install SimpleCV\n",
    "# !pip install matplotlib"
   ]
  },
  {
   "cell_type": "code",
   "execution_count": 1,
   "metadata": {},
   "outputs": [],
   "source": [
    "# import pygame\n",
    "# import pygame.camera\n",
    "import os\n",
    "import face_recognition\n",
    "import serial\n",
    "import ftplib\n",
    "import time\n",
    "import cv2\n",
    "from matplotlib import pyplot as plt\n",
    "# from SimpleCV import Camera\n",
    "import time"
   ]
  },
  {
   "cell_type": "code",
   "execution_count": 6,
   "metadata": {},
   "outputs": [],
   "source": [
    "#References: \n",
    "# - https://github.com/ageitgey/face_recognition/blob/master/examples/facerec_from_webcam_faster.py\n",
    "# - https://pypi.org/project/face-recognition/\n",
    "# - https://github.com/nicknochnack/OpenCV-Basics/blob/main/4.%20Accessing%20Your%20Webcam.ipynb\n",
    "\n",
    "def start(comport):\n",
    "    ser = serial.Serial(comport, 9600)\n",
    "    receivestring = ser.readline() # ignore the first read in\n",
    "    while True:\n",
    "        receivestring = ser.readline().decode(\"utf-8\").strip() # read one line and\n",
    "        time.sleep(1)  \n",
    "        break\n",
    "    return receivestring\n",
    "\n",
    "def uniquify(path):\n",
    "    filename, extension = os.path.splitext(path)\n",
    "    counter = 1\n",
    "    while os.path.exists(path):\n",
    "        path = filename + \" (\" + str(counter) + \")\" + extension\n",
    "        counter += 1\n",
    "    return path\n",
    "\n",
    "def captureimage():\n",
    "    ramp_frames = 30 \n",
    "    cap = cv2.VideoCapture(0)\n",
    "    for i in range(ramp_frames):\n",
    "         temp = cap.read()\n",
    "    camera_capture,img = cap.read()\n",
    "    cv2.imwrite(\"newphoto.jpg\",img)\n",
    "    cap.release()\n",
    "        \n",
    "def uploadFTP(filenameImage,ftp):    \n",
    "    with open(filenameImage, \"rb\") as file:\n",
    "        ftp.storbinary(f\"STOR {filenameImage}\", file)\n",
    "\n",
    "def openDoor(outcomport):\n",
    "    ser = serial.Serial(outcomport, 9600, timeout = 1, write_timeout= 1)\n",
    "    ser.write(b'1');\n",
    "        \n",
    "def facialRecognitionModel(filenameImage,ftp,outcomport):\n",
    "    dir_path = list(ftp.mlsd())\n",
    "\n",
    "    # get new image from server\n",
    "    for file in dir_path:\n",
    "        if filenameImage == file[0]:\n",
    "            newfilename = uniquify(file[0])\n",
    "            ftp.retrbinary(\"RETR \" + file[0] ,open(\"./\" + newfilename, 'wb').write)\n",
    "            new_picture = face_recognition.load_image_file(\"./\" + newfilename)\n",
    "            my_face_encoding = face_recognition.face_encodings(new_picture)[0]\n",
    "    \n",
    "    ftp.cwd('/KnownImagesLibrary')\n",
    "    imagefolder = list(ftp.mlsd())\n",
    "    \n",
    "    for images in imagefolder:\n",
    "        imagePath = \"./\" + images[0]\n",
    "        ftp.retrbinary(\"RETR \" +images[0] ,open(imagePath, 'wb').write)\n",
    "        temp_picture = face_recognition.load_image_file(imagePath)\n",
    "        unknown_face_encoding = face_recognition.face_encodings(temp_picture)[0]\n",
    "        results = face_recognition.compare_faces([my_face_encoding], unknown_face_encoding)\n",
    "        \n",
    "        os.remove(imagePath)\n",
    "        \n",
    "        if results[0] == True:\n",
    "            print(\"Opening Door...\")\n",
    "            openDoor(outcomport)\n",
    "            \n",
    "            ftp.quit()\n",
    "            break\n",
    "        else:\n",
    "            print(\"Alert! Face Not Recognized.\")\n",
    "                \n",
    "def ConnectToftp(FTP_HOST, FTP_USER, FTP_PASS, filenameImage,outcomport):\n",
    "    ftp = ftplib.FTP(FTP_HOST, FTP_USER, FTP_PASS)\n",
    "    ftp.encoding = \"utf-8\"\n",
    "    \n",
    "    uploadFTP(filenameImage,ftp)\n",
    "    facialRecognitionModel(filenameImage,ftp,outcomport)\n",
    "    "
   ]
  },
  {
   "cell_type": "code",
   "execution_count": 13,
   "metadata": {},
   "outputs": [
    {
     "name": "stdout",
     "output_type": "stream",
     "text": [
      "Analyzing...\n",
      "Alert! Face Not Recognized.\n",
      "Analyzing...\n",
      "Alert! Face Not Recognized.\n"
     ]
    },
    {
     "ename": "SerialException",
     "evalue": "ClearCommError failed (PermissionError(13, 'The device does not recognize the command.', None, 22))",
     "output_type": "error",
     "traceback": [
      "\u001b[1;31m---------------------------------------------------------------------------\u001b[0m",
      "\u001b[1;31mSerialException\u001b[0m                           Traceback (most recent call last)",
      "Cell \u001b[1;32mIn [13], line 2\u001b[0m\n\u001b[0;32m      1\u001b[0m \u001b[38;5;28;01mwhile\u001b[39;00m \u001b[38;5;28;01mTrue\u001b[39;00m:\n\u001b[1;32m----> 2\u001b[0m     reading \u001b[38;5;241m=\u001b[39m \u001b[43mstart\u001b[49m\u001b[43m(\u001b[49m\u001b[38;5;124;43m'\u001b[39;49m\u001b[38;5;124;43mCOM6\u001b[39;49m\u001b[38;5;124;43m'\u001b[39;49m\u001b[43m)\u001b[49m\n\u001b[0;32m      3\u001b[0m     \u001b[38;5;28;01mif\u001b[39;00m reading \u001b[38;5;241m==\u001b[39m \u001b[38;5;124m\"\u001b[39m\u001b[38;5;124mON\u001b[39m\u001b[38;5;124m\"\u001b[39m:\n\u001b[0;32m      4\u001b[0m         \u001b[38;5;28mprint\u001b[39m(\u001b[38;5;124m\"\u001b[39m\u001b[38;5;124mAnalyzing...\u001b[39m\u001b[38;5;124m\"\u001b[39m)\n",
      "Cell \u001b[1;32mIn [6], line 10\u001b[0m, in \u001b[0;36mstart\u001b[1;34m(comport)\u001b[0m\n\u001b[0;32m      8\u001b[0m receivestring \u001b[38;5;241m=\u001b[39m ser\u001b[38;5;241m.\u001b[39mreadline() \u001b[38;5;66;03m# ignore the first read in\u001b[39;00m\n\u001b[0;32m      9\u001b[0m \u001b[38;5;28;01mwhile\u001b[39;00m \u001b[38;5;28;01mTrue\u001b[39;00m:\n\u001b[1;32m---> 10\u001b[0m     receivestring \u001b[38;5;241m=\u001b[39m \u001b[43mser\u001b[49m\u001b[38;5;241;43m.\u001b[39;49m\u001b[43mreadline\u001b[49m\u001b[43m(\u001b[49m\u001b[43m)\u001b[49m\u001b[38;5;241m.\u001b[39mdecode(\u001b[38;5;124m\"\u001b[39m\u001b[38;5;124mutf-8\u001b[39m\u001b[38;5;124m\"\u001b[39m)\u001b[38;5;241m.\u001b[39mstrip() \u001b[38;5;66;03m# read one line and\u001b[39;00m\n\u001b[0;32m     11\u001b[0m     time\u001b[38;5;241m.\u001b[39msleep(\u001b[38;5;241m1\u001b[39m)  \n\u001b[0;32m     12\u001b[0m     \u001b[38;5;28;01mbreak\u001b[39;00m\n",
      "File \u001b[1;32mD:\\Program Files (x86)\\Anaconda\\envs\\Sensor Network\\lib\\site-packages\\serial\\serialwin32.py:275\u001b[0m, in \u001b[0;36mSerial.read\u001b[1;34m(self, size)\u001b[0m\n\u001b[0;32m    273\u001b[0m comstat \u001b[38;5;241m=\u001b[39m win32\u001b[38;5;241m.\u001b[39mCOMSTAT()\n\u001b[0;32m    274\u001b[0m \u001b[38;5;28;01mif\u001b[39;00m \u001b[38;5;129;01mnot\u001b[39;00m win32\u001b[38;5;241m.\u001b[39mClearCommError(\u001b[38;5;28mself\u001b[39m\u001b[38;5;241m.\u001b[39m_port_handle, ctypes\u001b[38;5;241m.\u001b[39mbyref(flags), ctypes\u001b[38;5;241m.\u001b[39mbyref(comstat)):\n\u001b[1;32m--> 275\u001b[0m     \u001b[38;5;28;01mraise\u001b[39;00m SerialException(\u001b[38;5;124m\"\u001b[39m\u001b[38;5;124mClearCommError failed (\u001b[39m\u001b[38;5;132;01m{!r}\u001b[39;00m\u001b[38;5;124m)\u001b[39m\u001b[38;5;124m\"\u001b[39m\u001b[38;5;241m.\u001b[39mformat(ctypes\u001b[38;5;241m.\u001b[39mWinError()))\n\u001b[0;32m    276\u001b[0m n \u001b[38;5;241m=\u001b[39m \u001b[38;5;28mmin\u001b[39m(comstat\u001b[38;5;241m.\u001b[39mcbInQue, size) \u001b[38;5;28;01mif\u001b[39;00m \u001b[38;5;28mself\u001b[39m\u001b[38;5;241m.\u001b[39mtimeout \u001b[38;5;241m==\u001b[39m \u001b[38;5;241m0\u001b[39m \u001b[38;5;28;01melse\u001b[39;00m size\n\u001b[0;32m    277\u001b[0m \u001b[38;5;28;01mif\u001b[39;00m n \u001b[38;5;241m>\u001b[39m \u001b[38;5;241m0\u001b[39m:\n",
      "\u001b[1;31mSerialException\u001b[0m: ClearCommError failed (PermissionError(13, 'The device does not recognize the command.', None, 22))"
     ]
    }
   ],
   "source": [
    "while True:\n",
    "    reading = start('COM6')\n",
    "    if reading == \"ON\":\n",
    "        print(\"Analyzing...\")\n",
    "        captureimage()\n",
    "        ConnectToftp(\"10.50.202.242\",\"user09\",\"user09\",\"newphoto.jpg\",\"COM7\")\n",
    "\n",
    "# reading = start('COM6')\n",
    "# if reading == \"ON\":\n",
    "#     print(reading)\n",
    "#     captureimage()\n",
    "#     ConnectToftp(\"10.50.202.242\",\"user09\",\"user09\",\"newphoto.jpg\",\"COM7\")"
   ]
  },
  {
   "cell_type": "code",
   "execution_count": null,
   "metadata": {},
   "outputs": [],
   "source": [
    "# import serial\n",
    "\n",
    "# ser = serial.Serial(\"COM7\", 9600, timeout = 1, write_timeout= 1) #Change your port name COM... and your baudrate\n",
    "\n",
    "# def retrieveData():\n",
    "#     ser.write(b'1')\n",
    "#     data = ser.readline().decode('ascii')\n",
    "#     return data\n",
    "\n",
    "# while(True):\n",
    "#     uInput = input(\"Retrieve data? \")\n",
    "#     if uInput == '1':\n",
    "#         print(retrieveData())\n",
    "#     else:\n",
    "#         ser.write(b'0')"
   ]
  },
  {
   "cell_type": "code",
   "execution_count": null,
   "metadata": {},
   "outputs": [],
   "source": []
  },
  {
   "cell_type": "code",
   "execution_count": null,
   "metadata": {},
   "outputs": [],
   "source": []
  },
  {
   "cell_type": "code",
   "execution_count": null,
   "metadata": {},
   "outputs": [],
   "source": []
  }
 ],
 "metadata": {
  "kernelspec": {
   "display_name": "Python 3 (ipykernel)",
   "language": "python",
   "name": "python3"
  },
  "language_info": {
   "codemirror_mode": {
    "name": "ipython",
    "version": 3
   },
   "file_extension": ".py",
   "mimetype": "text/x-python",
   "name": "python",
   "nbconvert_exporter": "python",
   "pygments_lexer": "ipython3",
   "version": "3.8.15"
  }
 },
 "nbformat": 4,
 "nbformat_minor": 4
}
